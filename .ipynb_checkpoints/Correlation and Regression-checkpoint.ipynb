{
 "cells": [
  {
   "cell_type": "markdown",
   "metadata": {},
   "source": [
    "# Regression"
   ]
  },
  {
   "cell_type": "code",
   "execution_count": 1,
   "metadata": {
    "ExecuteTime": {
     "end_time": "2020-05-14T17:19:08.698119Z",
     "start_time": "2020-05-14T17:18:58.157274Z"
    },
    "scrolled": true
   },
   "outputs": [
    {
     "name": "stderr",
     "output_type": "stream",
     "text": [
      "C:\\Users\\Administrator\\Anaconda3\\envs\\py810\\lib\\site-packages\\pandas_datareader\\compat\\__init__.py:7: FutureWarning: pandas.util.testing is deprecated. Use the functions in the public API at pandas.testing instead.\n",
      "  from pandas.util.testing import assert_frame_equal\n",
      "在使用天勤量化之前，默认您已经知晓并同意以下免责条款，如果不同意请立即停止使用：https://www.shinnytech.com/blog/disclaimer/\n"
     ]
    },
    {
     "data": {
      "text/plain": [
       "adj close    628\n",
       "tr           628\n",
       "atr          628\n",
       "cci          628\n",
       "pvt          628\n",
       "ema          628\n",
       "qhl5         628\n",
       "qhl10        628\n",
       "roc          628\n",
       "rocma        628\n",
       "obv          628\n",
       "priceosc     628\n",
       "Close        628\n",
       "Close_oil    628\n",
       "Close_fx     628\n",
       "Close_eth    628\n",
       "Close_ltc    628\n",
       "Close_bch    628\n",
       "dtype: int64"
      ]
     },
     "execution_count": 1,
     "metadata": {},
     "output_type": "execute_result"
    }
   ],
   "source": [
    "import datetime\n",
    "import time\n",
    "import pandas_datareader.data as web\n",
    "import pandas as pd\n",
    "\n",
    "\n",
    "def time_strf(a):\n",
    "    b = time.localtime(a)\n",
    "    c = time.strftime(\"%Y-%m-%d %H:%M:%S\", b)\n",
    "    return c\n",
    "\n",
    "def process_time(BCH, agg='d'):\n",
    "    BCH.index = pd.to_datetime(BCH.TimeStamp.apply(time_strf))\n",
    "    BCH = BCH.drop(columns=['TimeStamp'])\n",
    "    res = BCH.resample(agg).first()\n",
    "    return BCH, res\n",
    "\n",
    "\n",
    "\n",
    "\n",
    "def join_corr_data(dt, start, end, dt_symbol, rsuffix_name ):\n",
    "    dtt = dt.copy()\n",
    "    ## read & join\n",
    "    for i in range(len(dt_symbol)):\n",
    "        a = web.DataReader(dt_symbol[i], \"yahoo\", start, end)\n",
    "        dtt = dtt.join(a[[\"Close\"]], how='left',rsuffix='_'+rsuffix_name[i])\n",
    "    return dtt\n",
    "\n",
    "def get_btc(start, end): # 小写\n",
    "    BTC = web.DataReader(\"BTC-USD\", \"yahoo\", start, end)\n",
    "    btc = BTC.copy()\n",
    "    columns_lower = [i.lower() for i in list(BTC.columns)]\n",
    "    btc.columns = columns_lower\n",
    "    return btc\n",
    "\n",
    "\n",
    "start = datetime.datetime(2010,1,1)\n",
    "end = datetime.date.today()\n",
    "btc = get_btc(start, end)\n",
    "#################################### \n",
    "\n",
    "\n",
    "def get_ta_indicates(btc):\n",
    "    #################################### \n",
    "    # 中间添加技术指标. 输入 btc table. 输出 btc_techniques table\n",
    "\n",
    "    #a = ATR(btc, 14)\n",
    "    from tqsdk.ta import ATR, CCI, PVT, EMA, ARBR, QHLSR, ROC, VRSI, OBV, PRICEOSC, ARBR\n",
    "\n",
    "    a = ATR(btc, 14).set_index(btc.index) # 平均真实波幅\n",
    "    b = CCI(btc,14).set_index(btc.index) # 顺势指标\n",
    "    c = PVT(btc).set_index(btc.index)\n",
    "    d = EMA(btc,7).set_index(btc.index) # 指数加权移动平均线\n",
    "    # e = ARBR(btc,7).set_index(btc.index) #人气意愿指标\n",
    "    f = QHLSR(btc).set_index(btc.index) # 阻力指标\n",
    "    g = ROC(btc,7,7).set_index(btc.index)# 变动速率\n",
    "    # h = VRSI(btc, 7)# 量相对强弱\n",
    "    i = OBV(btc).set_index(btc.index) # 能量潮\n",
    "    j = PRICEOSC(btc, 30,7).set_index(btc.index) # 价格震荡指数\n",
    "    # k = ARBR(btc, 7).set_index(btc.index) # 人气意愿指标\n",
    "    btc_techniques = pd.concat([btc,a,b,c,d,f,g,i,j], axis=1)\n",
    "    return btc_techniques\n",
    "\n",
    "\n",
    "\n",
    "\n",
    "\n",
    "\n",
    "\n",
    "\n",
    "btc_techniques = get_ta_indicates(btc)\n",
    "######################################\n",
    "\n",
    "\n",
    "\n",
    "dt_symbol=[\"GC=F\",\"CL=F\",\"EURUSD=X\",\"ETHUSD=X\", \"LTCUSD=X\",\"BCH-USD\"]\n",
    "rsuffix_name= ['gold', 'oil', 'fx', 'eth','ltc','bch']\n",
    "dtt = join_corr_data(btc_techniques, start, end, dt_symbol, rsuffix_name )\n",
    "\n",
    "\n",
    "dtt.drop(columns = dtt.columns[0:5],inplace = True)\n",
    "dtt.dropna(inplace = True)\n",
    "dtt.count()"
   ]
  },
  {
   "cell_type": "markdown",
   "metadata": {},
   "source": [
    "## Correlation"
   ]
  },
  {
   "cell_type": "code",
   "execution_count": 2,
   "metadata": {
    "ExecuteTime": {
     "end_time": "2020-05-14T17:19:08.728952Z",
     "start_time": "2020-05-14T17:19:08.700120Z"
    }
   },
   "outputs": [
    {
     "name": "stdout",
     "output_type": "stream",
     "text": [
      "The correlation between BTC and BTC is 1.0\n",
      "The correlation between BTC and tr is 0.6120548759142425\n",
      "The correlation between BTC and atr is 0.7646336885655147\n",
      "The correlation between BTC and cci is 0.05857018223482467\n",
      "The correlation between BTC and pvt is 0.44625847276802444\n",
      "The correlation between BTC and ema is 0.9844691418412306\n",
      "The correlation between BTC and qhl5 is 0.06780160700142357\n",
      "The correlation between BTC and qhl10 is 0.07344415063919969\n",
      "The correlation between BTC and roc is 0.15887887632112635\n",
      "The correlation between BTC and rocma is 0.19754728631770638\n",
      "The correlation between BTC and obv is 0.3521329377829034\n",
      "The correlation between BTC and priceosc is 0.22665049455268427\n",
      "The correlation between BTC and gold is 0.2503424080812395\n",
      "The correlation between BTC and oil is 0.12194810993372872\n",
      "The correlation between BTC and fx is 0.10980193036819123\n",
      "The correlation between BTC and eth is 0.562355682969872\n",
      "The correlation between BTC and ltc is 0.7360565669858773\n",
      "The correlation between BTC and bch is 0.6522449230975703\n"
     ]
    }
   ],
   "source": [
    "dtt.head()\n",
    "name = ['BTC']+ list(dtt.columns[1:-len(rsuffix_name)]) + rsuffix_name\n",
    "dtt.columns = name\n",
    "\n",
    "for column in dtt.columns:\n",
    "    corr = dtt['BTC'].corr(dtt[column])\n",
    "    print('The correlation between BTC and ' + column + ' is ' + str(corr)) "
   ]
  },
  {
   "cell_type": "code",
   "execution_count": null,
   "metadata": {
    "ExecuteTime": {
     "end_time": "2020-05-13T21:55:44.359078Z",
     "start_time": "2020-05-13T21:55:44.355077Z"
    }
   },
   "outputs": [],
   "source": []
  },
  {
   "cell_type": "markdown",
   "metadata": {},
   "source": [
    "## OLS Model"
   ]
  },
  {
   "cell_type": "code",
   "execution_count": 3,
   "metadata": {
    "ExecuteTime": {
     "end_time": "2020-05-14T17:19:08.881613Z",
     "start_time": "2020-05-14T17:19:08.730956Z"
    }
   },
   "outputs": [
    {
     "data": {
      "text/html": [
       "<table class=\"simpletable\">\n",
       "<caption>OLS Regression Results</caption>\n",
       "<tr>\n",
       "  <th>Dep. Variable:</th>           <td>BTC</td>       <th>  R-squared:         </th> <td>   0.808</td> \n",
       "</tr>\n",
       "<tr>\n",
       "  <th>Model:</th>                   <td>OLS</td>       <th>  Adj. R-squared:    </th> <td>   0.806</td> \n",
       "</tr>\n",
       "<tr>\n",
       "  <th>Method:</th>             <td>Least Squares</td>  <th>  F-statistic:       </th> <td>   436.2</td> \n",
       "</tr>\n",
       "<tr>\n",
       "  <th>Date:</th>             <td>Thu, 14 May 2020</td> <th>  Prob (F-statistic):</th> <td>6.32e-219</td>\n",
       "</tr>\n",
       "<tr>\n",
       "  <th>Time:</th>                 <td>13:19:08</td>     <th>  Log-Likelihood:    </th> <td> -5374.0</td> \n",
       "</tr>\n",
       "<tr>\n",
       "  <th>No. Observations:</th>      <td>   628</td>      <th>  AIC:               </th> <td>1.076e+04</td>\n",
       "</tr>\n",
       "<tr>\n",
       "  <th>Df Residuals:</th>          <td>   621</td>      <th>  BIC:               </th> <td>1.079e+04</td>\n",
       "</tr>\n",
       "<tr>\n",
       "  <th>Df Model:</th>              <td>     6</td>      <th>                     </th>     <td> </td>    \n",
       "</tr>\n",
       "<tr>\n",
       "  <th>Covariance Type:</th>      <td>nonrobust</td>    <th>                     </th>     <td> </td>    \n",
       "</tr>\n",
       "</table>\n",
       "<table class=\"simpletable\">\n",
       "<tr>\n",
       "      <td></td>         <th>coef</th>     <th>std err</th>      <th>t</th>      <th>P>|t|</th>  <th>[0.025</th>    <th>0.975]</th>  \n",
       "</tr>\n",
       "<tr>\n",
       "  <th>Intercept</th> <td> 1.313e+04</td> <td> 3381.001</td> <td>    3.882</td> <td> 0.000</td> <td> 6486.540</td> <td> 1.98e+04</td>\n",
       "</tr>\n",
       "<tr>\n",
       "  <th>gold</th>      <td>    9.2562</td> <td>    0.617</td> <td>   15.005</td> <td> 0.000</td> <td>    8.045</td> <td>   10.468</td>\n",
       "</tr>\n",
       "<tr>\n",
       "  <th>oil</th>       <td>   61.3106</td> <td>    5.975</td> <td>   10.262</td> <td> 0.000</td> <td>   49.578</td> <td>   73.044</td>\n",
       "</tr>\n",
       "<tr>\n",
       "  <th>fx</th>        <td>-2.207e+04</td> <td> 2444.368</td> <td>   -9.030</td> <td> 0.000</td> <td>-2.69e+04</td> <td>-1.73e+04</td>\n",
       "</tr>\n",
       "<tr>\n",
       "  <th>eth</th>       <td>   -1.4368</td> <td>    0.643</td> <td>   -2.235</td> <td> 0.026</td> <td>   -2.699</td> <td>   -0.174</td>\n",
       "</tr>\n",
       "<tr>\n",
       "  <th>ltc</th>       <td>   32.5175</td> <td>    2.040</td> <td>   15.939</td> <td> 0.000</td> <td>   28.511</td> <td>   36.524</td>\n",
       "</tr>\n",
       "<tr>\n",
       "  <th>bch</th>       <td>    2.3988</td> <td>    0.231</td> <td>   10.376</td> <td> 0.000</td> <td>    1.945</td> <td>    2.853</td>\n",
       "</tr>\n",
       "</table>\n",
       "<table class=\"simpletable\">\n",
       "<tr>\n",
       "  <th>Omnibus:</th>       <td>243.979</td> <th>  Durbin-Watson:     </th> <td>   0.151</td>\n",
       "</tr>\n",
       "<tr>\n",
       "  <th>Prob(Omnibus):</th> <td> 0.000</td>  <th>  Jarque-Bera (JB):  </th> <td>2200.239</td>\n",
       "</tr>\n",
       "<tr>\n",
       "  <th>Skew:</th>          <td> 1.470</td>  <th>  Prob(JB):          </th> <td>    0.00</td>\n",
       "</tr>\n",
       "<tr>\n",
       "  <th>Kurtosis:</th>      <td>11.686</td>  <th>  Cond. No.          </th> <td>1.26e+05</td>\n",
       "</tr>\n",
       "</table><br/><br/>Warnings:<br/>[1] Standard Errors assume that the covariance matrix of the errors is correctly specified.<br/>[2] The condition number is large, 1.26e+05. This might indicate that there are<br/>strong multicollinearity or other numerical problems."
      ],
      "text/plain": [
       "<class 'statsmodels.iolib.summary.Summary'>\n",
       "\"\"\"\n",
       "                            OLS Regression Results                            \n",
       "==============================================================================\n",
       "Dep. Variable:                    BTC   R-squared:                       0.808\n",
       "Model:                            OLS   Adj. R-squared:                  0.806\n",
       "Method:                 Least Squares   F-statistic:                     436.2\n",
       "Date:                Thu, 14 May 2020   Prob (F-statistic):          6.32e-219\n",
       "Time:                        13:19:08   Log-Likelihood:                -5374.0\n",
       "No. Observations:                 628   AIC:                         1.076e+04\n",
       "Df Residuals:                     621   BIC:                         1.079e+04\n",
       "Df Model:                           6                                         \n",
       "Covariance Type:            nonrobust                                         \n",
       "==============================================================================\n",
       "                 coef    std err          t      P>|t|      [0.025      0.975]\n",
       "------------------------------------------------------------------------------\n",
       "Intercept   1.313e+04   3381.001      3.882      0.000    6486.540    1.98e+04\n",
       "gold           9.2562      0.617     15.005      0.000       8.045      10.468\n",
       "oil           61.3106      5.975     10.262      0.000      49.578      73.044\n",
       "fx         -2.207e+04   2444.368     -9.030      0.000   -2.69e+04   -1.73e+04\n",
       "eth           -1.4368      0.643     -2.235      0.026      -2.699      -0.174\n",
       "ltc           32.5175      2.040     15.939      0.000      28.511      36.524\n",
       "bch            2.3988      0.231     10.376      0.000       1.945       2.853\n",
       "==============================================================================\n",
       "Omnibus:                      243.979   Durbin-Watson:                   0.151\n",
       "Prob(Omnibus):                  0.000   Jarque-Bera (JB):             2200.239\n",
       "Skew:                           1.470   Prob(JB):                         0.00\n",
       "Kurtosis:                      11.686   Cond. No.                     1.26e+05\n",
       "==============================================================================\n",
       "\n",
       "Warnings:\n",
       "[1] Standard Errors assume that the covariance matrix of the errors is correctly specified.\n",
       "[2] The condition number is large, 1.26e+05. This might indicate that there are\n",
       "strong multicollinearity or other numerical problems.\n",
       "\"\"\""
      ]
     },
     "execution_count": 3,
     "metadata": {},
     "output_type": "execute_result"
    }
   ],
   "source": [
    "import statsmodels.formula.api as smf\n",
    "model_2 = smf.ols(formula='BTC ~' + \" + \".join(name[-len(rsuffix_name)::]), data=dtt).fit()\n",
    "model_2.summary()"
   ]
  },
  {
   "cell_type": "markdown",
   "metadata": {},
   "source": [
    "## Linear Regression"
   ]
  },
  {
   "cell_type": "code",
   "execution_count": 4,
   "metadata": {
    "ExecuteTime": {
     "end_time": "2020-05-14T17:19:09.048574Z",
     "start_time": "2020-05-14T17:19:08.882614Z"
    }
   },
   "outputs": [
    {
     "data": {
      "text/plain": [
       "array([-2.36788542e-02, -1.15130236e-01,  5.37076378e-01,  1.91467600e-08,\n",
       "        1.02999295e+00,  1.22703225e+02,  1.41264067e+02,  2.88496598e+01,\n",
       "       -7.81020989e+00, -5.74199813e-10, -1.45566508e+00, -1.10655558e+00,\n",
       "       -2.18185726e+00,  1.52567981e+03, -7.03497343e-01,  1.22657134e+00,\n",
       "       -1.63268631e-03])"
      ]
     },
     "execution_count": 4,
     "metadata": {},
     "output_type": "execute_result"
    }
   ],
   "source": [
    "from sklearn.linear_model import LinearRegression\n",
    "model_3 = LinearRegression()\n",
    "y = dtt[\"BTC\"]\n",
    "X = dtt.drop([\"BTC\"], axis=1)\n",
    "model_3.fit(X,y)\n",
    "model_3.coef_"
   ]
  },
  {
   "cell_type": "markdown",
   "metadata": {},
   "source": [
    "## Varible Selection"
   ]
  },
  {
   "cell_type": "code",
   "execution_count": 5,
   "metadata": {
    "ExecuteTime": {
     "end_time": "2020-05-14T17:19:09.069664Z",
     "start_time": "2020-05-14T17:19:09.050632Z"
    }
   },
   "outputs": [
    {
     "data": {
      "text/plain": [
       "['ema', 'roc']"
      ]
     },
     "execution_count": 5,
     "metadata": {},
     "output_type": "execute_result"
    }
   ],
   "source": [
    "from sklearn.linear_model import LassoLarsIC\n",
    "\n",
    "model_bic = LassoLarsIC(criterion='bic')\n",
    "model_bic.fit(X, y)   \n",
    "alpha_bic_ = model_bic.alpha_\n",
    "\n",
    "list(X.columns[model_bic.coef_>0])"
   ]
  },
  {
   "cell_type": "markdown",
   "metadata": {},
   "source": [
    "## Linear Regression After Selection"
   ]
  },
  {
   "cell_type": "code",
   "execution_count": 6,
   "metadata": {
    "ExecuteTime": {
     "end_time": "2020-05-14T17:19:09.080401Z",
     "start_time": "2020-05-14T17:19:09.071647Z"
    }
   },
   "outputs": [
    {
     "data": {
      "text/plain": [
       "array([-1.69026966e-02, -8.65172318e-02,  5.60707095e-01,  1.84019968e-08,\n",
       "        1.02743759e+00,  1.32023803e+02,  1.07390356e+02,  2.88300898e+01,\n",
       "       -8.28559912e+00, -5.42680803e-10,  3.40234933e-01, -1.29161582e+00,\n",
       "       -2.85377190e+00,  2.98886783e-01, -1.35079489e-01])"
      ]
     },
     "execution_count": 6,
     "metadata": {},
     "output_type": "execute_result"
    }
   ],
   "source": [
    "model_4 = LinearRegression()\n",
    "y = dtt[\"BTC\"]\n",
    "X = dtt.drop([\"BTC\",\"fx\",\"eth\"], axis=1)\n",
    "model_4.fit(X,y)\n",
    "model_4.coef_"
   ]
  },
  {
   "cell_type": "code",
   "execution_count": null,
   "metadata": {},
   "outputs": [],
   "source": []
  }
 ],
 "metadata": {
  "kernelspec": {
   "display_name": "Python 3",
   "language": "python",
   "name": "python3"
  },
  "language_info": {
   "codemirror_mode": {
    "name": "ipython",
    "version": 3
   },
   "file_extension": ".py",
   "mimetype": "text/x-python",
   "name": "python",
   "nbconvert_exporter": "python",
   "pygments_lexer": "ipython3",
   "version": "3.7.6"
  },
  "toc": {
   "base_numbering": 1,
   "nav_menu": {},
   "number_sections": true,
   "sideBar": true,
   "skip_h1_title": false,
   "title_cell": "Table of Contents",
   "title_sidebar": "Contents",
   "toc_cell": false,
   "toc_position": {},
   "toc_section_display": true,
   "toc_window_display": false
  }
 },
 "nbformat": 4,
 "nbformat_minor": 4
}
